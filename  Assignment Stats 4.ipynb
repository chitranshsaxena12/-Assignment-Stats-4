{
 "cells": [
  {
   "cell_type": "code",
   "execution_count": 1,
   "id": "669bbe58",
   "metadata": {},
   "outputs": [],
   "source": [
    "import numpy as np \n",
    "import pandas as pd \n",
    "import scipy.stats as stats"
   ]
  },
  {
   "cell_type": "markdown",
   "id": "9aae9d38",
   "metadata": {},
   "source": [
    "# Problem Statement 1:\n",
    "    \n",
    "Is gender independent of education level? A random sample of 395 people were\n",
    "\n",
    "surveyed and each person was asked to report the highest education level they\n",
    "\n",
    "obtained. The data that resulted from the survey is summarized in the following table:\n",
    "    \n",
    "High School Bachelors Masters Ph.d. Total\n",
    "\n",
    "Female 60 54 46 41 201\n",
    "\n",
    "Male 40 44 53 57 194\n",
    "\n",
    "Total 100 98 99 98 395\n",
    "\n",
    "Question: Are gender and education level dependent at 5% level of significance? In\n",
    "    \n",
    "other words, given the data collected above, is there a relationship between the\n",
    "\n",
    "gender of an individual and the level of education that they have obtained?\n"
   ]
  },
  {
   "cell_type": "code",
   "execution_count": 3,
   "id": "1e127afa",
   "metadata": {},
   "outputs": [
    {
     "name": "stdout",
     "output_type": "stream",
     "text": [
      "[40, 44, 53, 57, 60, 54, 46, 41]\n",
      "     Education  Marks Sex\n",
      "0  High_school     40   M\n",
      "1    Bachelors     44   M\n",
      "2      Masters     53   M\n",
      "3         Ph.d     57   M\n",
      "4  High_school     60   F\n",
      "5    Bachelors     54   F\n",
      "6      Masters     46   F\n",
      "7         Ph.d     41   F\n",
      "Education  Bachelors  High_school  Masters  Ph.d  All\n",
      "Sex Marks                                            \n",
      "F   41             0            0        0     1    1\n",
      "    46             0            0        1     0    1\n",
      "    54             1            0        0     0    1\n",
      "    60             0            1        0     0    1\n",
      "M   40             0            1        0     0    1\n",
      "    44             1            0        0     0    1\n",
      "    53             0            0        1     0    1\n",
      "    57             0            0        0     1    1\n",
      "All                2            2        2     2    8\n",
      "Education  Bachelors  High_school  Masters  Ph.d  All\n",
      "Sex                                                  \n",
      "F                 54           60       46    41  201\n",
      "M                 44           40       53    57  194\n",
      "All               98          100       99    98  395\n",
      "          Bachelors  High_School  Masters  Ph.d.  Genderwise_total\n",
      "Female           54           60       46     41               201\n",
      "Male             44           40       53     57               194\n",
      "Combined         98          100       99     98               395\n"
     ]
    }
   ],
   "source": [
    "male = [40,44,53,57] \n",
    "female = [60,54,46,41] \n",
    "High_school=[60,40] \n",
    "Bachelors = [54,44] \n",
    "Masters = [46,53] \n",
    "Phd = [41,57]\n",
    "\n",
    "marks = male+female \n",
    "print(marks) \n",
    "sex=['M','M','M','M','F','F','F','F'] \n",
    "education =['High_school','Bachelors','Masters','Ph.d','High_school','Bachelors','Masters','Ph.d'] \n",
    "DF=pd.DataFrame({\"Education\":education,\"Marks\":marks,\"Sex\":sex}) \n",
    "print(DF)\n",
    "\n",
    "cross_tab = pd.crosstab([DF.Sex,DF.Marks],DF.Education,margins=True) \n",
    "print(cross_tab)\n",
    "\n",
    "DF1 = pd.crosstab(DF.Sex, DF.Education,DF.Marks, aggfunc=\"sum\",margins=True) \n",
    "print(DF1)\n",
    "\n",
    "DF1.columns = [\"Bachelors\",\"High_School\",\"Masters\",\"Ph.d.\",\"Genderwise_total\"] \n",
    "DF1.index = [\"Female\",\"Male\",\"Combined\"]\n",
    "print(DF1)"
   ]
  },
  {
   "cell_type": "markdown",
   "id": "3bdcf450",
   "metadata": {},
   "source": [
    "# Creating a table exlcuding the total for later use"
   ]
  },
  {
   "cell_type": "code",
   "execution_count": 4,
   "id": "57fdb778",
   "metadata": {},
   "outputs": [
    {
     "data": {
      "text/html": [
       "<div>\n",
       "<style scoped>\n",
       "    .dataframe tbody tr th:only-of-type {\n",
       "        vertical-align: middle;\n",
       "    }\n",
       "\n",
       "    .dataframe tbody tr th {\n",
       "        vertical-align: top;\n",
       "    }\n",
       "\n",
       "    .dataframe thead th {\n",
       "        text-align: right;\n",
       "    }\n",
       "</style>\n",
       "<table border=\"1\" class=\"dataframe\">\n",
       "  <thead>\n",
       "    <tr style=\"text-align: right;\">\n",
       "      <th></th>\n",
       "      <th>Bachelors</th>\n",
       "      <th>High_School</th>\n",
       "      <th>Masters</th>\n",
       "      <th>Ph.d.</th>\n",
       "    </tr>\n",
       "  </thead>\n",
       "  <tbody>\n",
       "    <tr>\n",
       "      <th>Female</th>\n",
       "      <td>54</td>\n",
       "      <td>60</td>\n",
       "      <td>46</td>\n",
       "      <td>41</td>\n",
       "    </tr>\n",
       "    <tr>\n",
       "      <th>Male</th>\n",
       "      <td>44</td>\n",
       "      <td>40</td>\n",
       "      <td>53</td>\n",
       "      <td>57</td>\n",
       "    </tr>\n",
       "  </tbody>\n",
       "</table>\n",
       "</div>"
      ],
      "text/plain": [
       "        Bachelors  High_School  Masters  Ph.d.\n",
       "Female         54           60       46     41\n",
       "Male           44           40       53     57"
      ]
     },
     "execution_count": 4,
     "metadata": {},
     "output_type": "execute_result"
    }
   ],
   "source": [
    "DF2 = DF1.iloc[0:2,0:4]\n",
    "DF2"
   ]
  },
  {
   "cell_type": "markdown",
   "id": "b5ef8887",
   "metadata": {},
   "source": [
    "# For a test of independence, we use the same chi-squared formula that we used for the goodness-of-fit test."
   ]
  },
  {
   "cell_type": "markdown",
   "id": "6fd47585",
   "metadata": {},
   "source": [
    "# The main difference is we have to calculate the expected counts of each cell in a 2-dimensional table instead of a 1-dimensional table. To get the expected count for a cell, multiply the row total for that cell by the column total for that cell and then divide by the total number of observations. We can quickly get the expected counts for all cells in the table by taking the row totals and column totals of the table, performing an outer product on them with the np.outer() function and dividing by the number of observations:"
   ]
  },
  {
   "cell_type": "code",
   "execution_count": 6,
   "id": "3a530f25",
   "metadata": {},
   "outputs": [
    {
     "data": {
      "text/html": [
       "<div>\n",
       "<style scoped>\n",
       "    .dataframe tbody tr th:only-of-type {\n",
       "        vertical-align: middle;\n",
       "    }\n",
       "\n",
       "    .dataframe tbody tr th {\n",
       "        vertical-align: top;\n",
       "    }\n",
       "\n",
       "    .dataframe thead th {\n",
       "        text-align: right;\n",
       "    }\n",
       "</style>\n",
       "<table border=\"1\" class=\"dataframe\">\n",
       "  <thead>\n",
       "    <tr style=\"text-align: right;\">\n",
       "      <th></th>\n",
       "      <th>Bachelors</th>\n",
       "      <th>High_School</th>\n",
       "      <th>Masters</th>\n",
       "      <th>Ph.d.</th>\n",
       "    </tr>\n",
       "  </thead>\n",
       "  <tbody>\n",
       "    <tr>\n",
       "      <th>Female</th>\n",
       "      <td>49.868354</td>\n",
       "      <td>50.886076</td>\n",
       "      <td>50.377215</td>\n",
       "      <td>49.868354</td>\n",
       "    </tr>\n",
       "    <tr>\n",
       "      <th>Male</th>\n",
       "      <td>48.131646</td>\n",
       "      <td>49.113924</td>\n",
       "      <td>48.622785</td>\n",
       "      <td>48.131646</td>\n",
       "    </tr>\n",
       "  </tbody>\n",
       "</table>\n",
       "</div>"
      ],
      "text/plain": [
       "        Bachelors  High_School    Masters      Ph.d.\n",
       "Female  49.868354    50.886076  50.377215  49.868354\n",
       "Male    48.131646    49.113924  48.622785  48.131646"
      ]
     },
     "execution_count": 6,
     "metadata": {},
     "output_type": "execute_result"
    }
   ],
   "source": [
    "DF3=np.outer(DF1[\"Genderwise_total\"][0:2],DF1.loc[\"Combined\"][0:4]) / 395.0\n",
    "DF3 = pd.DataFrame(DF3)\n",
    "DF3.columns = [\"Bachelors\",\"High_School\",\"Masters\",\"Ph.d.\"] \n",
    "DF3.index = [\"Female\",\"Male\"] \n",
    "DF3"
   ]
  },
  {
   "cell_type": "markdown",
   "id": "3199601a",
   "metadata": {},
   "source": [
    "# Now we will calculate the chisquare statistic, critical value and p value. We called the .sum() twice, once to get the column sum and second time to add the sum, returning the sum of entire 2D table"
   ]
  },
  {
   "cell_type": "code",
   "execution_count": 9,
   "id": "d19a6f7a",
   "metadata": {},
   "outputs": [
    {
     "name": "stdout",
     "output_type": "stream",
     "text": [
      "8.006066246262538\n"
     ]
    }
   ],
   "source": [
    "chi_squared_stat = (((DF3-DF2)**2)/DF3).sum().sum()\n",
    "print(chi_squared_stat)"
   ]
  },
  {
   "cell_type": "code",
   "execution_count": 13,
   "id": "0bac7776",
   "metadata": {},
   "outputs": [
    {
     "name": "stdout",
     "output_type": "stream",
     "text": [
      "Critical value is 7.814727903251179\n"
     ]
    }
   ],
   "source": [
    "#Find the critical value for 95% confidence and degree of freedom (df) is 3 \n",
    "cvalue = stats.chi2.ppf(q = 0.95,df= 3) \n",
    "print(\"Critical value is\",cvalue)"
   ]
  },
  {
   "cell_type": "markdown",
   "id": "ce30f335",
   "metadata": {},
   "source": [
    "# Find the p-value"
   ]
  },
  {
   "cell_type": "code",
   "execution_count": 12,
   "id": "7cccc58b",
   "metadata": {},
   "outputs": [
    {
     "name": "stdout",
     "output_type": "stream",
     "text": [
      "P value is 0.04588650089174717\n"
     ]
    }
   ],
   "source": [
    "p_value = 1 - stats.chi2.cdf(x=chi_squared_stat,df=3) \n",
    "print(\"P value is\",p_value)"
   ]
  },
  {
   "cell_type": "markdown",
   "id": "0ee8f3e1",
   "metadata": {},
   "source": [
    "# Use stats.chi2_contingency() function to conduct a test of independence automatically given a frequency table of observed counts:"
   ]
  },
  {
   "cell_type": "code",
   "execution_count": 14,
   "id": "bf825489",
   "metadata": {},
   "outputs": [
    {
     "name": "stdout",
     "output_type": "stream",
     "text": [
      "(8.006066246262538, 0.045886500891747214, 3, array([[49.86835443, 50.88607595, 50.37721519, 49.86835443],\n",
      "       [48.13164557, 49.11392405, 48.62278481, 48.13164557]]))\n",
      "-------------------------------------------------------------------------------------------------------------------\n",
      "The output shows the chi-square statistic = 8, the p-value as 0.045 and the degrees of freedom as 3\n",
      "The critical value with 3 degree of freedom is 7.815. Since 8.006 > 7.815, therefore we reject the null hypothesis and conclude that the education level depends on gender at a 5% level of significance.\n"
     ]
    }
   ],
   "source": [
    "result = stats.chi2_contingency(observed= DF2) \n",
    "print(result) \n",
    "print('-'*115) \n",
    "print('The output shows the chi-square statistic = 8, the p-value as 0.045 and the degrees of freedom as 3') \n",
    "print('The critical value with 3 degree of freedom is 7.815. Since 8.006 > 7.815, therefore we reject the null hypothesis and conclude that the education level depends on gender at a 5% level of significance.')"
   ]
  },
  {
   "cell_type": "markdown",
   "id": "3533f6f7",
   "metadata": {},
   "source": [
    "# Problem Statement 2:\n",
    "Using the following data, perform a oneway analysis of variance using α=.05. Write\n",
    "\n",
    "up the results in APA format.\n",
    "\n",
    "[Group1: 51, 45, 33, 45, 67]\n",
    "\n",
    "[Group2: 23, 43, 23, 43, 45]\n",
    "\n",
    "[Group3: 56, 76, 74, 87, 56]"
   ]
  },
  {
   "cell_type": "code",
   "execution_count": 16,
   "id": "de2b988d",
   "metadata": {},
   "outputs": [],
   "source": [
    "#The analysis of variance or ANOVA is a statistical inference test that lets you compare multiple groups at the same \n",
    "#time. The one-way ANOVA tests whether the mean of some numeric variable differs \n",
    "#across the levels of one categoricalvariable.It essentially answers the question: do any of the group means \n",
    "#differ from one another?"
   ]
  },
  {
   "cell_type": "code",
   "execution_count": 17,
   "id": "c0888a08",
   "metadata": {},
   "outputs": [],
   "source": [
    "#The scipy library has a function for carrying out one-way ANOVA tests called scipy.stats.f_oneway()"
   ]
  },
  {
   "cell_type": "code",
   "execution_count": 19,
   "id": "edd8bf1c",
   "metadata": {},
   "outputs": [],
   "source": [
    "Group1 = [51, 45, 33, 45, 67] \n",
    "Group2 = [23, 43, 23, 43, 45] \n",
    "Group3 = [56, 76, 74, 87, 56]"
   ]
  },
  {
   "cell_type": "markdown",
   "id": "19c3b27f",
   "metadata": {},
   "source": [
    "# Perform the ANOVA"
   ]
  },
  {
   "cell_type": "code",
   "execution_count": 21,
   "id": "2cde17f3",
   "metadata": {},
   "outputs": [
    {
     "name": "stdout",
     "output_type": "stream",
     "text": [
      "F Statistic value 9.747205503009463 , p-value 0.0030597541434430556\n",
      "True\n",
      "-------------------------------------------------------------------------------------------------------------------\n",
      "The test result suggests the groups have different same sample means in this example, since the p-value is significant at a 99% confidence level. Here the p-value returned is 0.00305 which is < 0.05\n"
     ]
    }
   ],
   "source": [
    "statistic, pvalue = stats.f_oneway(Group1,Group2,Group3) \n",
    "print(\"F Statistic value {} , p-value {}\".format(statistic,pvalue)) \n",
    "if pvalue < 0.05: \n",
    "    print('True') \n",
    "else: \n",
    "    print('False') \n",
    "print(\"-\"*115) \n",
    "print(\"The test result suggests the groups have different same sample means in this example, since the p-value is significant at a 99% confidence level. Here the p-value returned is 0.00305 which is < 0.05\")"
   ]
  },
  {
   "cell_type": "markdown",
   "id": "43fe5cf7",
   "metadata": {},
   "source": [
    "# Problem Statement 3:\n",
    "Calculate F Test for given 10, 20, 30, 40, 50 and 5,10,15, 20, 25.\n",
    "For 10, 20, 30, 40, 50:"
   ]
  },
  {
   "cell_type": "code",
   "execution_count": 22,
   "id": "b77e8575",
   "metadata": {},
   "outputs": [
    {
     "name": "stdout",
     "output_type": "stream",
     "text": [
      "F Test for given 10, 20, 30, 40, 50 and 5,10,15, 20, 25 is :  4.0\n"
     ]
    }
   ],
   "source": [
    "Group1 = [10, 20, 30, 40, 50] \n",
    "Group2 = [5,10,15, 20, 25] \n",
    "mean_1 = np.mean(Group1) \n",
    "mean_2 = np.mean(Group2) \n",
    "grp1_sub_mean1 = [] \n",
    "grp2_sub_mean2 = [] \n",
    "add1 = 0 \n",
    "add2 = 0 \n",
    "for items in Group1: \n",
    "    add1 += (items - mean_1)**2 \n",
    "for items in Group2: \n",
    "    add2 += (items - mean_2)**2\n",
    "var1 = add1/(len(Group1)-1) \n",
    "var2 = add2/(len(Group2)-1)\n",
    "\n",
    "F_Test = var1/var2 \n",
    "print(\"F Test for given 10, 20, 30, 40, 50 and 5,10,15, 20, 25 is : \",F_Test)"
   ]
  },
  {
   "cell_type": "code",
   "execution_count": null,
   "id": "26b47425",
   "metadata": {},
   "outputs": [],
   "source": []
  }
 ],
 "metadata": {
  "kernelspec": {
   "display_name": "Python 3 (ipykernel)",
   "language": "python",
   "name": "python3"
  },
  "language_info": {
   "codemirror_mode": {
    "name": "ipython",
    "version": 3
   },
   "file_extension": ".py",
   "mimetype": "text/x-python",
   "name": "python",
   "nbconvert_exporter": "python",
   "pygments_lexer": "ipython3",
   "version": "3.9.7"
  }
 },
 "nbformat": 4,
 "nbformat_minor": 5
}
